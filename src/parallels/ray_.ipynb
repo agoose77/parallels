{
 "cells": [
  {
   "cell_type": "markdown",
   "id": "fa14cb1d-c533-4dd5-b530-e6d35a231542",
   "metadata": {
    "tags": [
     "docstring"
    ]
   },
   "source": [
    "# `ray` Executor"
   ]
  },
  {
   "cell_type": "code",
   "execution_count": 1,
   "id": "a81e4600-aee2-4b56-867e-cd244aacfa0a",
   "metadata": {},
   "outputs": [],
   "source": [
    "%run -m literary.notebook\n",
    "\n",
    "import time"
   ]
  },
  {
   "cell_type": "code",
   "execution_count": 2,
   "id": "748e6195-7ce4-44fd-b223-a6ad9ac2d553",
   "metadata": {
    "tags": [
     "export"
    ]
   },
   "outputs": [
    {
     "name": "stderr",
     "output_type": "stream",
     "text": [
      "/home/angus/.pyenv/versions/3.8.5-system/envs/parallels/lib/python3.8/site-packages/ray/autoscaler/_private/cli_logger.py:57: FutureWarning: Not all Ray CLI dependencies were found. In Ray 1.4+, the Ray CLI, autoscaler, and dashboard will only be usable via `pip install 'ray[default]'`. Please update your install command.\n",
      "  warnings.warn(\n"
     ]
    }
   ],
   "source": [
    "import asyncio\n",
    "import weakref\n",
    "\n",
    "import ray\n",
    "import ray.exceptions\n",
    "\n",
    "from .executor import AsyncExecutor"
   ]
  },
  {
   "cell_type": "markdown",
   "id": "890c53a8-04d5-4829-b85e-21459435bcdc",
   "metadata": {},
   "source": [
    "The Ray executor uses the globally initialised state."
   ]
  },
  {
   "cell_type": "code",
   "execution_count": 3,
   "id": "4410fdf6-ce80-4be6-85e2-7ea6c8de369f",
   "metadata": {
    "tags": [
     "export"
    ]
   },
   "outputs": [],
   "source": [
    "class RayExecutor(AsyncExecutor):\n",
    "    pass"
   ]
  },
  {
   "cell_type": "markdown",
   "id": "1641293c-4d05-4ead-a0ef-726350b72873",
   "metadata": {},
   "source": [
    "To submit a task, we invoke the `distributed.Client.submit` method, and then wrap the result in an `asyncio.Future` handle. This future holds the status of the running task."
   ]
  },
  {
   "cell_type": "code",
   "execution_count": 4,
   "id": "a7f141b4-77a7-4b19-a3bd-3d7d405d59fc",
   "metadata": {
    "tags": [
     "export"
    ]
   },
   "outputs": [],
   "source": [
    "@patch(RayExecutor)\n",
    "def _apply(self, func, /, *args, **kwargs) -> asyncio.Future:\n",
    "    args, kwargs = self._process_args(args, kwargs)\n",
    "    return _ray_call.remote(func, *args, **kwargs)"
   ]
  },
  {
   "cell_type": "markdown",
   "id": "8bed3a2b-3d61-47c3-ac32-708dc769fc68",
   "metadata": {},
   "source": [
    "Ray requires that the `remote` object is a free-function. Here, we implement a proxy that calls the passed method."
   ]
  },
  {
   "cell_type": "code",
   "execution_count": 5,
   "id": "6eac97a1-1cc4-4ca4-8f92-826a98a4764b",
   "metadata": {
    "tags": [
     "export"
    ]
   },
   "outputs": [],
   "source": [
    "@ray.remote\n",
    "def _ray_call(func, *args, **kwargs):\n",
    "    return func(*args, **kwargs)"
   ]
  },
  {
   "cell_type": "markdown",
   "id": "5ccfef41-1e17-4416-a88f-133c5d482f44",
   "metadata": {},
   "source": [
    "Ray can also accept `ray.ObjectRef` objects as arguments to other calls to `submit`. This is useful to avoid a round-trip of the data for chained computations. In order to support this, we process the arguments passed to `submit`:"
   ]
  },
  {
   "cell_type": "code",
   "execution_count": 6,
   "id": "9f8a00ab-0380-476f-891a-8de1197bcf25",
   "metadata": {
    "tags": [
     "export"
    ]
   },
   "outputs": [],
   "source": [
    "@patch(RayExecutor)\n",
    "def _process_args(self, args, kwargs):\n",
    "    # Unwrap any wrapped handles\n",
    "    args = [self._unwrap_maybe(x) for x in args]\n",
    "    kwargs = {k: self._unwrap_maybe(v) for k, v in kwargs.items()}\n",
    "    return args, kwargs"
   ]
  },
  {
   "cell_type": "markdown",
   "id": "b6411dcd-be61-451e-889d-325f4abda8a7",
   "metadata": {},
   "source": [
    "Here, we unwrap the `asyncio.Future` handles in the arguments so that they are visible to Ray."
   ]
  },
  {
   "cell_type": "code",
   "execution_count": 7,
   "id": "80aeb228-eed7-4bcf-873d-80742025b81f",
   "metadata": {
    "tags": [
     "export"
    ]
   },
   "outputs": [],
   "source": [
    "@patch(RayExecutor)\n",
    "def _unwrap_maybe(self, obj):\n",
    "    try:\n",
    "        return self._unwrap_handle(obj)\n",
    "    except ValueError:\n",
    "        return obj"
   ]
  },
  {
   "cell_type": "markdown",
   "id": "30f88119-d8ed-4eb6-9fe4-fa3bcbcb549d",
   "metadata": {},
   "source": [
    "In order to connect the handle with the `ray.ObjectRef` result, we implement a routine to chain these with `asyncio.Future` objects:"
   ]
  },
  {
   "cell_type": "code",
   "execution_count": 8,
   "id": "5d2fc355-f4fe-4d71-9e57-30db8ec94c56",
   "metadata": {
    "tags": [
     "export"
    ]
   },
   "outputs": [],
   "source": [
    "@patch(RayExecutor)\n",
    "def _register_handle(self, handle: asyncio.Future, ref: ray.ObjectRef):\n",
    "    def on_ref_completed_threadsafe(result, handle_ref=weakref.ref(handle)):\n",
    "        if not (handle := handle_ref()):\n",
    "            return\n",
    "\n",
    "        if handle.cancelled():\n",
    "            return\n",
    "\n",
    "        if isinstance(result, ray.exceptions.RayTaskError):\n",
    "            handle.set_exception(result.as_instanceof_cause())\n",
    "        elif isinstance(result, ray.exceptions.RayError):\n",
    "            handle.set_exception(result)\n",
    "        else:\n",
    "            handle.set_result(True)\n",
    "\n",
    "    loop = asyncio.get_running_loop()\n",
    "\n",
    "    @ref._on_completed\n",
    "    def on_ref_completed(result):\n",
    "        loop.call_soon_threadsafe(on_ref_completed_threadsafe, result)\n",
    "\n",
    "    @handle.add_done_callback\n",
    "    def on_fut_done(fut):\n",
    "        if fut.cancelled():\n",
    "            ray.cancel(ref)"
   ]
  },
  {
   "cell_type": "markdown",
   "id": "7793b9c8-c1ce-40a1-99cc-c81b728613bd",
   "metadata": {},
   "source": [
    "Finally, we implement a method to unwrap and return the result object for the Ray ref:"
   ]
  },
  {
   "cell_type": "code",
   "execution_count": 9,
   "id": "3bca96d6-0612-43e9-ad29-e2b1d0189689",
   "metadata": {
    "tags": [
     "export"
    ]
   },
   "outputs": [],
   "source": [
    "@patch(RayExecutor)\n",
    "async def retrieve(self, handle: asyncio.Future):\n",
    "    return await self._unwrap_handle(handle)"
   ]
  },
  {
   "cell_type": "markdown",
   "id": "7a74d6d8-3461-4ff2-accb-6cff3a5fa9f1",
   "metadata": {},
   "source": [
    "To demonstrate this, we can first create a local cluster:"
   ]
  },
  {
   "cell_type": "code",
   "execution_count": 10,
   "id": "481ada49-c8c1-429e-8a8e-5696f80ed54a",
   "metadata": {},
   "outputs": [
    {
     "name": "stderr",
     "output_type": "stream",
     "text": [
      "2021-05-05 18:31:52,200\tINFO services.py:1267 -- View the Ray dashboard at \u001b[1m\u001b[32mhttp://127.0.0.1:8266\u001b[39m\u001b[22m\n"
     ]
    },
    {
     "data": {
      "text/plain": [
       "{'node_ip_address': '192.168.1.123',\n",
       " 'raylet_ip_address': '192.168.1.123',\n",
       " 'redis_address': '192.168.1.123:44142',\n",
       " 'object_store_address': '/tmp/ray/session_2021-05-05_18-31-51_197946_1045065/sockets/plasma_store',\n",
       " 'raylet_socket_name': '/tmp/ray/session_2021-05-05_18-31-51_197946_1045065/sockets/raylet',\n",
       " 'webui_url': '127.0.0.1:8266',\n",
       " 'session_dir': '/tmp/ray/session_2021-05-05_18-31-51_197946_1045065',\n",
       " 'metrics_export_port': 65243,\n",
       " 'node_id': '65d8770e13b5a19c407f5a815838426cd5a7f5111cbb360c5e3df694'}"
      ]
     },
     "execution_count": 10,
     "metadata": {},
     "output_type": "execute_result"
    }
   ],
   "source": [
    "ray.init()"
   ]
  },
  {
   "cell_type": "markdown",
   "id": "f4b23f42-4499-4698-a174-517f36b4e45b",
   "metadata": {},
   "source": [
    "Using this asychronous client, we can create an executor:"
   ]
  },
  {
   "cell_type": "code",
   "execution_count": 11,
   "id": "e2a3ddcb-0bca-4e77-9536-c360b875d4fa",
   "metadata": {},
   "outputs": [],
   "source": [
    "executor = RayExecutor()"
   ]
  },
  {
   "cell_type": "markdown",
   "id": "3863425c-37ef-42eb-b37d-38d609cf699a",
   "metadata": {},
   "source": [
    "To do some work, let's implement a sleep function that returns the delay"
   ]
  },
  {
   "cell_type": "code",
   "execution_count": 12,
   "id": "9b53f426-6833-48d7-a203-7e7a8893b8b6",
   "metadata": {},
   "outputs": [],
   "source": [
    "def slow_function(timeout):\n",
    "    time.sleep(timeout)\n",
    "    return timeout"
   ]
  },
  {
   "cell_type": "markdown",
   "id": "997d04cb-28b6-4a10-9d88-9c9657644398",
   "metadata": {},
   "source": [
    "Now we can chain a few of these tasks together:"
   ]
  },
  {
   "cell_type": "code",
   "execution_count": 13,
   "id": "bca97684-8fbd-4d33-a62e-6df326da35ad",
   "metadata": {},
   "outputs": [],
   "source": [
    "a = executor.submit(\n",
    "    slow_function,\n",
    "    2,\n",
    ")\n",
    "b = executor.submit(slow_function, 5)\n",
    "c = executor.submit(int.__add__, a, b)"
   ]
  },
  {
   "cell_type": "markdown",
   "id": "872a8de8-66eb-462e-b775-9c7d9f2bd172",
   "metadata": {},
   "source": [
    "We can wait for the result without retrieving its value:"
   ]
  },
  {
   "cell_type": "code",
   "execution_count": 14,
   "id": "dd0325c8-7d0d-4bf9-badb-5b3318a61146",
   "metadata": {},
   "outputs": [
    {
     "data": {
      "text/plain": [
       "True"
      ]
     },
     "execution_count": 14,
     "metadata": {},
     "output_type": "execute_result"
    }
   ],
   "source": [
    "await c"
   ]
  },
  {
   "cell_type": "markdown",
   "id": "6a164992-0c55-4331-a5f5-8c5af6a95ea2",
   "metadata": {},
   "source": [
    "And when we're ready for the value, we invoke `executor.retrieve`."
   ]
  },
  {
   "cell_type": "code",
   "execution_count": 15,
   "id": "e38828cc-885d-437d-a73e-2fca36888c4b",
   "metadata": {},
   "outputs": [],
   "source": [
    "assert await executor.retrieve(c) == 7"
   ]
  }
 ],
 "metadata": {
  "kernelspec": {
   "display_name": "Python 3",
   "language": "python",
   "name": "python3"
  },
  "language_info": {
   "codemirror_mode": {
    "name": "ipython",
    "version": 3
   },
   "file_extension": ".py",
   "mimetype": "text/x-python",
   "name": "python",
   "nbconvert_exporter": "python",
   "pygments_lexer": "ipython3",
   "version": "3.8.5"
  }
 },
 "nbformat": 4,
 "nbformat_minor": 5
}
