{
 "cells": [
  {
   "cell_type": "markdown",
   "id": "34ba7254-eafa-494c-b909-197f102a7dd5",
   "metadata": {
    "tags": [
     "docstring"
    ]
   },
   "source": [
    "# `concurrent.futures` Executor"
   ]
  },
  {
   "cell_type": "code",
   "execution_count": 1,
   "id": "b3ae9d99-c0ac-4f83-bc9b-aabaecd0f619",
   "metadata": {},
   "outputs": [],
   "source": [
    "%run -m literary.notebook\n",
    "\n",
    "import time"
   ]
  },
  {
   "cell_type": "code",
   "execution_count": 2,
   "id": "31b26f02-a96e-4884-9dec-758056e635e5",
   "metadata": {
    "tags": [
     "export"
    ]
   },
   "outputs": [],
   "source": [
    "import asyncio\n",
    "import asyncio.futures\n",
    "import weakref\n",
    "from concurrent import futures\n",
    "\n",
    "from .executor import AsyncExecutor\n",
    "from .futures import chain_future_exception, chain_future_handle, create_future"
   ]
  },
  {
   "cell_type": "markdown",
   "id": "6e136dfd-52da-40ac-a02d-5668c3da813a",
   "metadata": {},
   "source": [
    "The `ConcurrentFuturesExecutor` accepts a `futures.Executor` object:"
   ]
  },
  {
   "cell_type": "code",
   "execution_count": 3,
   "id": "4f4623d5-f086-4f1c-b2a2-ed6d0bae533d",
   "metadata": {
    "tags": [
     "export"
    ]
   },
   "outputs": [],
   "source": [
    "class ConcurrentFuturesExecutor(AsyncExecutor):\n",
    "    def __init__(self, executor: futures.Executor):\n",
    "        self._executor = executor"
   ]
  },
  {
   "cell_type": "markdown",
   "id": "96f5dc2e-de8c-4cdf-ae84-0d9555886cbd",
   "metadata": {},
   "source": [
    "Because `futures.Executor` instances act as context managers, we should implement the same interface."
   ]
  },
  {
   "cell_type": "code",
   "execution_count": 4,
   "id": "d192b84c-141a-4ab8-bd5c-733f7632f074",
   "metadata": {
    "tags": [
     "export"
    ]
   },
   "outputs": [],
   "source": [
    "@patch(ConcurrentFuturesExecutor)\n",
    "def __enter__(self):\n",
    "    self._executor.__enter__()\n",
    "    return self"
   ]
  },
  {
   "cell_type": "code",
   "execution_count": 5,
   "id": "b0905580-fdcb-48c1-83da-d54e929a12b6",
   "metadata": {
    "tags": [
     "export"
    ]
   },
   "outputs": [],
   "source": [
    "@patch(ConcurrentFuturesExecutor)\n",
    "def __exit__(self, exc_type, exc_val, exc_tb):\n",
    "    self._executor.__exit__(exc_type, exc_val, exc_tb)\n",
    "    return"
   ]
  },
  {
   "cell_type": "markdown",
   "id": "2c52b5d4-4b51-4e6f-8cf6-cfaf6d57a3db",
   "metadata": {},
   "source": [
    "To submit a task, we launch an `_apply_async` task which dispatches to the `futures.Executor` and chains the resulting `futures.Future` to the `aio_cf_future` object. We also chain the exceptions of the task to the result in order to propagate errors and cancellations."
   ]
  },
  {
   "cell_type": "code",
   "execution_count": 6,
   "id": "701ced68-d030-4d81-ba04-8d66001aa902",
   "metadata": {
    "tags": [
     "export"
    ]
   },
   "outputs": [],
   "source": [
    "@patch(ConcurrentFuturesExecutor)\n",
    "def _apply(self, func, /, *args, **kwargs) -> asyncio.Future:\n",
    "    aio_cf_future = create_future()\n",
    "    # Because the unwrap stage actually needs to wait for results,\n",
    "    # we create a task to do this work\n",
    "    task = asyncio.create_task(self._apply_async(func, aio_cf_future, *args, **kwargs))\n",
    "    # Allow task to be cancelled or raise exceptions\n",
    "    chain_future_exception(task, aio_cf_future)\n",
    "    return aio_cf_future"
   ]
  },
  {
   "cell_type": "markdown",
   "id": "f0ee7f8b-a623-4700-96f4-7ba09c45cd33",
   "metadata": {},
   "source": [
    "As the `futures.Executor` executor is required to resolve handles on the client, any handles provided as arguments must be resolved before dispatching to the executor. In this `_apply_async` method, we invoke the `futures.Executor.submit` method, and chain the `futures.Future` object with the given `asyncio.Future` handle. This future holds the status of the running task. "
   ]
  },
  {
   "cell_type": "code",
   "execution_count": 7,
   "id": "05f850c5-e8b7-4a3c-b6be-ae19877a4725",
   "metadata": {
    "tags": [
     "export"
    ]
   },
   "outputs": [],
   "source": [
    "@patch(ConcurrentFuturesExecutor)\n",
    "async def _apply_async(self, func, aio_cf_fut: asyncio.Future, /, *args, **kwargs):\n",
    "    args, kwargs = await self._process_args(args, kwargs)\n",
    "    # Launch task into pool\n",
    "    cf_fut = self._executor.submit(func, *args, **kwargs)\n",
    "    # When we have the concurrent.futures.Future object,\n",
    "    # chain it with the \"proxy\" fut. We can do this\n",
    "    # because the data have to be retrieved locally anyway.\n",
    "    asyncio.futures._chain_future(cf_fut, aio_cf_fut)"
   ]
  },
  {
   "cell_type": "markdown",
   "id": "9035f36e-541b-40c5-bddb-d3054931f4ab",
   "metadata": {},
   "source": [
    "The `futures.Executor.submit` method cannot make use of `futures.Future` arguments. Instead, we have to resolve them to their computed values by waiting on them first:"
   ]
  },
  {
   "cell_type": "code",
   "execution_count": 8,
   "id": "9e5eef90-3a5b-456b-b1ff-a01c5fac86fe",
   "metadata": {
    "tags": [
     "export"
    ]
   },
   "outputs": [],
   "source": [
    "@patch(ConcurrentFuturesExecutor)\n",
    "async def _process_args(self, args, kwargs):\n",
    "    # Unwrap any wrapped handles\n",
    "    args = [await self._unwrap_and_wait_maybe(x) for x in args]\n",
    "    kwargs = {k: await self._unwrap_and_wait_maybe(v) for k, v in kwargs.items()}\n",
    "    return args, kwargs"
   ]
  },
  {
   "cell_type": "markdown",
   "id": "708e1cea-c46e-41e7-9b61-1cc1da24f048",
   "metadata": {},
   "source": [
    "Here, we unwrap the `asyncio.Future` handles in the arguments, and await their results so that can be passed to `futures.Executor.submit`."
   ]
  },
  {
   "cell_type": "code",
   "execution_count": 9,
   "id": "ee84b21d-10d5-4058-9694-c91e1854d085",
   "metadata": {
    "tags": [
     "export"
    ]
   },
   "outputs": [],
   "source": [
    "@patch(ConcurrentFuturesExecutor)\n",
    "async def _unwrap_and_wait_maybe(self, obj):\n",
    "    # Ensure is wrapped\n",
    "    try:\n",
    "        self._unwrap_handle(obj)\n",
    "    except ValueError:\n",
    "        return obj\n",
    "\n",
    "    return await self.retrieve(obj)"
   ]
  },
  {
   "cell_type": "markdown",
   "id": "0ea23902-2bd7-4dcd-9853-039bbf9eb391",
   "metadata": {},
   "source": [
    "As the `future` that is returned by `_async` is an `asyncio.Future` object, we can use the `chain_future_handle` helper to register the necessary callbacks."
   ]
  },
  {
   "cell_type": "code",
   "execution_count": 10,
   "id": "69f7ac2a-bff1-4747-9105-3062f759ddc7",
   "metadata": {
    "tags": [
     "export"
    ]
   },
   "outputs": [],
   "source": [
    "@patch(ConcurrentFuturesExecutor)\n",
    "def _register_handle(self, handle, future):\n",
    "    chain_future_handle(future, handle)"
   ]
  },
  {
   "cell_type": "markdown",
   "id": "261f6e8b-e992-4a5b-8c09-1fca77c74b9b",
   "metadata": {},
   "source": [
    "To demonstrate this, we can create a thread pool executor:"
   ]
  },
  {
   "cell_type": "code",
   "execution_count": 11,
   "id": "1164cfcb-a126-4982-b7ce-4cc1da7a4b0d",
   "metadata": {},
   "outputs": [],
   "source": [
    "pool = futures.ProcessPoolExecutor()"
   ]
  },
  {
   "cell_type": "markdown",
   "id": "83c685a8-c4c5-4998-861a-fec506d22f40",
   "metadata": {},
   "source": [
    "Using this pool we can create an exectutor:"
   ]
  },
  {
   "cell_type": "code",
   "execution_count": 12,
   "id": "6224e06b-396a-482f-bc57-4d7947d5b89b",
   "metadata": {},
   "outputs": [],
   "source": [
    "executor = ConcurrentFuturesExecutor(pool)"
   ]
  },
  {
   "cell_type": "markdown",
   "id": "1c15fc70-7b17-4bab-92a3-3d25e064c4ec",
   "metadata": {},
   "source": [
    "To do some work, let's implement a sleep function that returns the delay"
   ]
  },
  {
   "cell_type": "code",
   "execution_count": 13,
   "id": "5c81f2e3-f8a5-4ab3-ba92-b59f549861ab",
   "metadata": {},
   "outputs": [],
   "source": [
    "def slow_function(timeout):\n",
    "    time.sleep(timeout)\n",
    "    return timeout"
   ]
  },
  {
   "cell_type": "markdown",
   "id": "9d650e07-8920-4317-b30c-bcf1e5ddd625",
   "metadata": {},
   "source": [
    "Now we can chain a few of these tasks together:"
   ]
  },
  {
   "cell_type": "code",
   "execution_count": 14,
   "id": "ddb28efe-e17a-43a5-ac88-8d2fb7211a26",
   "metadata": {},
   "outputs": [],
   "source": [
    "a = executor.submit(slow_function, 2)\n",
    "b = executor.submit(slow_function, 5)\n",
    "c = executor.submit(int.__add__, a, b)"
   ]
  },
  {
   "cell_type": "markdown",
   "id": "f3fe5c22-f4ff-42b5-ada1-429cc691aedb",
   "metadata": {},
   "source": [
    "We can wait for the result without retrieving its value:"
   ]
  },
  {
   "cell_type": "code",
   "execution_count": 15,
   "id": "a72b2adc-e67e-42e7-aa4f-769349f79d93",
   "metadata": {},
   "outputs": [
    {
     "data": {
      "text/plain": [
       "True"
      ]
     },
     "execution_count": 15,
     "metadata": {},
     "output_type": "execute_result"
    }
   ],
   "source": [
    "await c"
   ]
  },
  {
   "cell_type": "markdown",
   "id": "ca15894a-06fe-49dc-b3a1-097e3e3edb86",
   "metadata": {},
   "source": [
    "And when we're ready for the value, we invoke `executor.retrieve`."
   ]
  },
  {
   "cell_type": "code",
   "execution_count": 16,
   "id": "571f758a-8e65-4ddf-9cb1-50f3797ebab8",
   "metadata": {},
   "outputs": [],
   "source": [
    "assert await executor.retrieve(c) == 7"
   ]
  }
 ],
 "metadata": {
  "kernelspec": {
   "display_name": "Python 3",
   "language": "python",
   "name": "python3"
  },
  "language_info": {
   "codemirror_mode": {
    "name": "ipython",
    "version": 3
   },
   "file_extension": ".py",
   "mimetype": "text/x-python",
   "name": "python",
   "nbconvert_exporter": "python",
   "pygments_lexer": "ipython3",
   "version": "3.8.5"
  }
 },
 "nbformat": 4,
 "nbformat_minor": 5
}
