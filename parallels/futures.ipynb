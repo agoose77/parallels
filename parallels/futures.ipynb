{
 "cells": [
  {
   "cell_type": "markdown",
   "id": "8578b153-e1bb-419c-8106-6c53f3ebc861",
   "metadata": {},
   "source": [
    "# Futures"
   ]
  },
  {
   "cell_type": "code",
   "execution_count": 1,
   "id": "563337f6-d151-43ba-bc4b-57012e9af73b",
   "metadata": {},
   "outputs": [],
   "source": [
    "%run -m literary.notebook"
   ]
  },
  {
   "cell_type": "code",
   "execution_count": 2,
   "id": "4c1dd087-deda-4fde-aff4-3c73244db8cf",
   "metadata": {
    "tags": [
     "export"
    ]
   },
   "outputs": [],
   "source": [
    "import asyncio\n",
    "import weakref"
   ]
  },
  {
   "cell_type": "markdown",
   "id": "48c2a60d-1742-4008-a3b5-c1b21ed298bc",
   "metadata": {},
   "source": [
    "It can be convenient to create new futures for the running loop. Here we'll implement a simple helper function."
   ]
  },
  {
   "cell_type": "code",
   "execution_count": 3,
   "id": "c52fe67b-b37a-4b73-a239-301051bc55a8",
   "metadata": {
    "tags": [
     "export"
    ]
   },
   "outputs": [],
   "source": [
    "def create_future() -> asyncio.Future:\n",
    "    \"\"\"Create a future for the running loop\n",
    "    \n",
    "    :returns: new future\n",
    "    \"\"\"\n",
    "    loop = asyncio.get_running_loop()\n",
    "    return loop.create_future()"
   ]
  },
  {
   "cell_type": "markdown",
   "id": "292609f7-b6c7-4993-8f49-f4e4b2e372ce",
   "metadata": {},
   "source": [
    "There are many ways that futures can be chained together. This helper class makes it easy to select which events to handle."
   ]
  },
  {
   "cell_type": "code",
   "execution_count": 4,
   "id": "fbbe279d-b7d1-434d-a1f9-85a86dfa5bf4",
   "metadata": {
    "tags": [
     "export"
    ]
   },
   "outputs": [],
   "source": [
    "class FutureChain:\n",
    "    \"\"\"Helper class to chain asyncio futures\"\"\"\n",
    "    \n",
    "    def on_destination_cancelled(self, source, destination):\n",
    "        source.cancel()\n",
    "\n",
    "    def on_source_cancelled(self, source, destination):\n",
    "        destination.cancel()\n",
    "\n",
    "    def on_source_exception(self, source, destination):\n",
    "        destination.set_exception(source.exception())\n",
    "\n",
    "    def on_source_result(self, source, destination):\n",
    "        destination.set_result(source.result())\n",
    "\n",
    "    def __call__(self, source, destination):\n",
    "        assert isinstance(source, asyncio.Future)\n",
    "        assert isinstance(destination, asyncio.Future)\n",
    "\n",
    "        @destination.add_done_callback\n",
    "        def on_destination_done(destination, source_ref=weakref.ref(source)):\n",
    "            if (source := source_ref()) and destination.cancelled():\n",
    "                self.on_destination_cancelled(source, destination)\n",
    "\n",
    "        @source.add_done_callback\n",
    "        def on_source_done(source, destination_ref=weakref.ref(destination)):\n",
    "            destination = destination_ref()\n",
    "            if not destination or destination.cancelled():\n",
    "                return\n",
    "\n",
    "            if source.cancelled():\n",
    "                self.on_source_cancelled(source, destination)\n",
    "\n",
    "            elif source.exception() is not None:\n",
    "                self.on_source_exception(source, destination)\n",
    "\n",
    "            else:\n",
    "                self.on_source_result(source, destination)"
   ]
  },
  {
   "cell_type": "markdown",
   "id": "215e1a28-1e47-473c-be36-5413f3d74086",
   "metadata": {},
   "source": [
    "Here we implement some common configurations:"
   ]
  },
  {
   "cell_type": "code",
   "execution_count": 5,
   "id": "af3efaae-2c02-4810-9979-842d0fc8cd0a",
   "metadata": {
    "tags": [
     "export"
    ]
   },
   "outputs": [],
   "source": [
    "chain_future = FutureChain()"
   ]
  },
  {
   "cell_type": "code",
   "execution_count": 6,
   "id": "e445f8be-0030-473a-ad61-a67155f45a5a",
   "metadata": {
    "tags": [
     "export"
    ]
   },
   "outputs": [],
   "source": [
    "class _FutureChainException(FutureChain):\n",
    "    def on_source_result(self, source, destination):\n",
    "        return"
   ]
  },
  {
   "cell_type": "code",
   "execution_count": 7,
   "id": "27721ea5-a40e-421b-8e52-2d8349adb584",
   "metadata": {
    "tags": [
     "export"
    ]
   },
   "outputs": [],
   "source": [
    "chain_future_exception = _FutureChainException()"
   ]
  },
  {
   "cell_type": "code",
   "execution_count": 8,
   "id": "ad0b0743-0691-4920-a091-26ecc01d9255",
   "metadata": {
    "tags": [
     "export"
    ]
   },
   "outputs": [],
   "source": [
    "class _FutureChainHandle(FutureChain):\n",
    "    def on_source_result(self, source, destination):\n",
    "        destination.set_result(True)"
   ]
  },
  {
   "cell_type": "code",
   "execution_count": 9,
   "id": "f385936c-6da1-4ca4-b5f6-28b83259170c",
   "metadata": {
    "tags": [
     "export"
    ]
   },
   "outputs": [],
   "source": [
    "chain_future_handle = _FutureChainHandle()"
   ]
  }
 ],
 "metadata": {
  "kernelspec": {
   "display_name": "Python 3",
   "language": "python",
   "name": "python3"
  },
  "language_info": {
   "codemirror_mode": {
    "name": "ipython",
    "version": 3
   },
   "file_extension": ".py",
   "mimetype": "text/x-python",
   "name": "python",
   "nbconvert_exporter": "python",
   "pygments_lexer": "ipython3",
   "version": "3.8.5"
  }
 },
 "nbformat": 4,
 "nbformat_minor": 5
}
