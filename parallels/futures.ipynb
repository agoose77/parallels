{
 "cells": [
  {
   "cell_type": "code",
   "execution_count": 1,
   "id": "563337f6-d151-43ba-bc4b-57012e9af73b",
   "metadata": {},
   "outputs": [],
   "source": [
    "%run -m literary.notebook"
   ]
  },
  {
   "cell_type": "code",
   "execution_count": 2,
   "id": "4c1dd087-deda-4fde-aff4-3c73244db8cf",
   "metadata": {
    "tags": [
     "export"
    ]
   },
   "outputs": [],
   "source": [
    "import asyncio\n",
    "import weakref"
   ]
  },
  {
   "cell_type": "code",
   "execution_count": 1,
   "id": "c52fe67b-b37a-4b73-a239-301051bc55a8",
   "metadata": {
    "tags": [
     "export"
    ]
   },
   "outputs": [],
   "source": [
    "def create_future():\n",
    "    loop = asyncio.get_running_loop()\n",
    "    return loop.create_future()"
   ]
  },
  {
   "cell_type": "code",
   "execution_count": 3,
   "id": "0ba65c20-24d1-48c8-956e-4fe3a48a076d",
   "metadata": {
    "tags": [
     "export"
    ]
   },
   "outputs": [],
   "source": [
    "def chain_cancellation(parent: asyncio.Future, child: asyncio.Future):\n",
    "    @parent.add_done_callback\n",
    "    def on_parent_done(parent, child_ref=weakref.ref(child)):\n",
    "        if parent.cancelled() and (child := child_ref()):\n",
    "            child.cancel()"
   ]
  }
 ],
 "metadata": {
  "kernelspec": {
   "display_name": "Python 3",
   "language": "python",
   "name": "python3"
  },
  "language_info": {
   "codemirror_mode": {
    "name": "ipython",
    "version": 3
   },
   "file_extension": ".py",
   "mimetype": "text/x-python",
   "name": "python",
   "nbconvert_exporter": "python",
   "pygments_lexer": "ipython3",
   "version": "3.8.5"
  }
 },
 "nbformat": 4,
 "nbformat_minor": 5
}
