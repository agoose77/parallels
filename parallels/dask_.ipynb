{
 "cells": [
  {
   "cell_type": "markdown",
   "id": "fa14cb1d-c533-4dd5-b530-e6d35a231542",
   "metadata": {
    "tags": [
     "docstring"
    ]
   },
   "source": [
    "# `dask.distributed` Executor"
   ]
  },
  {
   "cell_type": "code",
   "execution_count": 1,
   "id": "a81e4600-aee2-4b56-867e-cd244aacfa0a",
   "metadata": {},
   "outputs": [],
   "source": [
    "%run -m literary.notebook\n",
    "\n",
    "import time"
   ]
  },
  {
   "cell_type": "code",
   "execution_count": 2,
   "id": "748e6195-7ce4-44fd-b223-a6ad9ac2d553",
   "metadata": {
    "tags": [
     "export"
    ]
   },
   "outputs": [],
   "source": [
    "import asyncio\n",
    "import enum\n",
    "import weakref\n",
    "\n",
    "from dask import distributed\n",
    "\n",
    "from .executor import Executor\n",
    "from .futures import create_future\n",
    "from .wrap import AttributeHandleWrapper"
   ]
  },
  {
   "cell_type": "markdown",
   "id": "d791bfbd-4866-47a0-bebf-41f1a6ee9215",
   "metadata": {},
   "source": [
    "Dask uses raw strings for status codes. Here we define them as a Python enum to avoid errors later on."
   ]
  },
  {
   "cell_type": "code",
   "execution_count": 3,
   "id": "74d1be98-4ad3-4bf2-80a9-dfb901a4ee0d",
   "metadata": {
    "tags": [
     "export"
    ]
   },
   "outputs": [],
   "source": [
    "class DaskStatus(str, enum.Enum):\n",
    "    FINISHED = \"finished\"\n",
    "    CANCELLED = \"cancelled\"\n",
    "    LOST = \"lost\"\n",
    "    PENDING = \"pending\"\n",
    "    ERROR = \"error\""
   ]
  },
  {
   "cell_type": "markdown",
   "id": "890c53a8-04d5-4829-b85e-21459435bcdc",
   "metadata": {},
   "source": [
    "The basic Dask executor wraps a `distributed.Client` object. "
   ]
  },
  {
   "cell_type": "code",
   "execution_count": 4,
   "id": "4410fdf6-ce80-4be6-85e2-7ea6c8de369f",
   "metadata": {
    "tags": [
     "export"
    ]
   },
   "outputs": [],
   "source": [
    "class DaskExecutor(Executor):\n",
    "    def __init__(self, client: distributed.Client):\n",
    "        assert client.asynchronous\n",
    "\n",
    "        self._client = client\n",
    "        self._wrapper = AttributeHandleWrapper()"
   ]
  },
  {
   "cell_type": "markdown",
   "id": "1641293c-4d05-4ead-a0ef-726350b72873",
   "metadata": {},
   "source": [
    "To submit a task, we invoke the `distributed.Client.submit` method, and then wrap the result in an `asyncio.Future` handle. This future holds the status of the running task."
   ]
  },
  {
   "cell_type": "code",
   "execution_count": 5,
   "id": "a7f141b4-77a7-4b19-a3bd-3d7d405d59fc",
   "metadata": {
    "tags": [
     "export"
    ]
   },
   "outputs": [],
   "source": [
    "@patch(DaskExecutor)\n",
    "def submit(self, func, /, *args, **kwargs) -> asyncio.Future:\n",
    "    args, kwargs = self._process_args(args, kwargs)\n",
    "    dask_fut = self._client.submit(func, *args, **kwargs)\n",
    "\n",
    "    handle = create_future()\n",
    "    self._chain_futures(handle, dask_fut)\n",
    "    self._wrapper.wrap(handle, dask_fut)\n",
    "    return handle"
   ]
  },
  {
   "cell_type": "markdown",
   "id": "5ccfef41-1e17-4416-a88f-133c5d482f44",
   "metadata": {},
   "source": [
    "Dask can also accept `distributed.Future` objects as arguments to other calls to `submit`. This is useful to avoid a round-trip of the data for chained computations. In order to support this, we process the arguments passed to `submit`:"
   ]
  },
  {
   "cell_type": "code",
   "execution_count": 6,
   "id": "9f8a00ab-0380-476f-891a-8de1197bcf25",
   "metadata": {
    "tags": [
     "export"
    ]
   },
   "outputs": [],
   "source": [
    "@patch(DaskExecutor)\n",
    "def _process_args(self, args, kwargs):\n",
    "    # Unwrap any wrapped handles\n",
    "    args = [self._unwrap_maybe(x) for x in args]\n",
    "    kwargs = {k: self._unwrap_maybe(v) for k, v in kwargs.items()}\n",
    "    return args, kwargs"
   ]
  },
  {
   "cell_type": "markdown",
   "id": "b6411dcd-be61-451e-889d-325f4abda8a7",
   "metadata": {},
   "source": [
    "Here, we unwrap the `asyncio.Future` handles in the arguments so that they are visible to Dask."
   ]
  },
  {
   "cell_type": "code",
   "execution_count": 7,
   "id": "80aeb228-eed7-4bcf-873d-80742025b81f",
   "metadata": {
    "tags": [
     "export"
    ]
   },
   "outputs": [],
   "source": [
    "@patch(DaskExecutor)\n",
    "def _unwrap_maybe(self, obj):\n",
    "    try:\n",
    "        return self._wrapper.unwrap(obj)\n",
    "    except AttributeError:\n",
    "        return obj"
   ]
  },
  {
   "cell_type": "markdown",
   "id": "30f88119-d8ed-4eb6-9fe4-fa3bcbcb549d",
   "metadata": {},
   "source": [
    "In order to connect the handle with the `distributed.Future` result, we implement a routine to chain these with `asyncio.Future` objects:"
   ]
  },
  {
   "cell_type": "code",
   "execution_count": 8,
   "id": "5d2fc355-f4fe-4d71-9e57-30db8ec94c56",
   "metadata": {
    "tags": [
     "export"
    ]
   },
   "outputs": [],
   "source": [
    "@patch(DaskExecutor)\n",
    "def _chain_futures(self, fut: asyncio.Future, dask_fut: distributed.Future):\n",
    "    @dask_fut.add_done_callback\n",
    "    def on_dask_fut_done(dask_fut, fut_ref=weakref.ref(fut)):\n",
    "        fut = fut_ref()\n",
    "        if fut is None:\n",
    "            return\n",
    "\n",
    "        if fut.cancelled():\n",
    "            return\n",
    "\n",
    "        if dask_fut.status == DaskStatus.FINISHED:\n",
    "            fut.set_result(True)\n",
    "        elif dask_fut.status == DaskStatus.CANCELLED:\n",
    "            fut.cancel()\n",
    "        else:\n",
    "            try:\n",
    "                typ, exc, tb = dask_fut.result()\n",
    "                raise exc.with_traceback(tb)\n",
    "            except BaseException as err:\n",
    "                fut.set_exception(err)\n",
    "\n",
    "    @fut.add_done_callback\n",
    "    def on_fut_done(fut):\n",
    "        if fut.cancelled():\n",
    "            asyncio.create_task(dask_fut.cancel(force=True))"
   ]
  },
  {
   "cell_type": "markdown",
   "id": "7793b9c8-c1ce-40a1-99cc-c81b728613bd",
   "metadata": {},
   "source": [
    "Finally, we implement a method to unwrap and return the result object for the Dask future:"
   ]
  },
  {
   "cell_type": "code",
   "execution_count": 9,
   "id": "3bca96d6-0612-43e9-ad29-e2b1d0189689",
   "metadata": {
    "tags": [
     "export"
    ]
   },
   "outputs": [],
   "source": [
    "@patch(DaskExecutor)\n",
    "async def retrieve(self, handle: asyncio.Future):\n",
    "    dask_fut = self._wrapper.unwrap(handle)\n",
    "    return await dask_fut"
   ]
  },
  {
   "cell_type": "markdown",
   "id": "7a74d6d8-3461-4ff2-accb-6cff3a5fa9f1",
   "metadata": {},
   "source": [
    "To demonstrate this, we can first create a local cluster:"
   ]
  },
  {
   "cell_type": "code",
   "execution_count": 28,
   "id": "481ada49-c8c1-429e-8a8e-5696f80ed54a",
   "metadata": {},
   "outputs": [
    {
     "data": {
      "text/html": [
       "<table style=\"border: 2px solid white;\">\n",
       "<tr>\n",
       "<td style=\"vertical-align: top; border: 0px solid white\">\n",
       "<h3 style=\"text-align: left;\">Client</h3>\n",
       "<ul style=\"text-align: left; list-style: none; margin: 0; padding: 0;\">\n",
       "  <li><b>Scheduler: </b>tcp://127.0.0.1:43035</li>\n",
       "  <li><b>Dashboard: </b><a href='http://127.0.0.1:39005/status' target='_blank'>http://127.0.0.1:39005/status</a></li>\n",
       "</ul>\n",
       "</td>\n",
       "<td style=\"vertical-align: top; border: 0px solid white\">\n",
       "<h3 style=\"text-align: left;\">Cluster</h3>\n",
       "<ul style=\"text-align: left; list-style:none; margin: 0; padding: 0;\">\n",
       "  <li><b>Workers: </b>4</li>\n",
       "  <li><b>Cores: </b>12</li>\n",
       "  <li><b>Memory: </b>15.56 GiB</li>\n",
       "</ul>\n",
       "</td>\n",
       "</tr>\n",
       "</table>"
      ],
      "text/plain": [
       "<Client: 'tcp://127.0.0.1:43035' processes=4 threads=12, memory=15.56 GiB>"
      ]
     },
     "execution_count": 28,
     "metadata": {},
     "output_type": "execute_result"
    }
   ],
   "source": [
    "client = await distributed.Client(\n",
    "    scheduler_port=0, dashboard_address=\":0\", asynchronous=True\n",
    ")\n",
    "client"
   ]
  },
  {
   "cell_type": "markdown",
   "id": "f4b23f42-4499-4698-a174-517f36b4e45b",
   "metadata": {},
   "source": [
    "Using this asychronous client, we can create an executor:"
   ]
  },
  {
   "cell_type": "code",
   "execution_count": 12,
   "id": "e2a3ddcb-0bca-4e77-9536-c360b875d4fa",
   "metadata": {},
   "outputs": [],
   "source": [
    "executor = DaskExecutor(client)"
   ]
  },
  {
   "cell_type": "markdown",
   "id": "3863425c-37ef-42eb-b37d-38d609cf699a",
   "metadata": {},
   "source": [
    "To do some work, let's implement a sleep function that returns the delay"
   ]
  },
  {
   "cell_type": "code",
   "execution_count": 22,
   "id": "9b53f426-6833-48d7-a203-7e7a8893b8b6",
   "metadata": {},
   "outputs": [],
   "source": [
    "def slow_function(timeout):\n",
    "    time.sleep(timeout)\n",
    "    return timeout"
   ]
  },
  {
   "cell_type": "markdown",
   "id": "997d04cb-28b6-4a10-9d88-9c9657644398",
   "metadata": {},
   "source": [
    "Now we can chain a few of these tasks together:"
   ]
  },
  {
   "cell_type": "code",
   "execution_count": 23,
   "id": "bca97684-8fbd-4d33-a62e-6df326da35ad",
   "metadata": {},
   "outputs": [],
   "source": [
    "a = executor.submit(\n",
    "    slow_function,\n",
    "    2,\n",
    ")\n",
    "b = executor.submit(slow_function, 5)\n",
    "c = executor.submit(int.__add__, a, b)"
   ]
  },
  {
   "cell_type": "markdown",
   "id": "872a8de8-66eb-462e-b775-9c7d9f2bd172",
   "metadata": {},
   "source": [
    "We can wait for the result without retrieving its value:"
   ]
  },
  {
   "cell_type": "code",
   "execution_count": 24,
   "id": "dd0325c8-7d0d-4bf9-badb-5b3318a61146",
   "metadata": {},
   "outputs": [
    {
     "data": {
      "text/plain": [
       "True"
      ]
     },
     "execution_count": 24,
     "metadata": {},
     "output_type": "execute_result"
    }
   ],
   "source": [
    "await c"
   ]
  },
  {
   "cell_type": "markdown",
   "id": "6a164992-0c55-4331-a5f5-8c5af6a95ea2",
   "metadata": {},
   "source": [
    "And when we're ready for the value, we invoke `executor.retrieve`."
   ]
  },
  {
   "cell_type": "code",
   "execution_count": 26,
   "id": "e38828cc-885d-437d-a73e-2fca36888c4b",
   "metadata": {},
   "outputs": [],
   "source": [
    "assert await executor.retrieve(c) == 7"
   ]
  }
 ],
 "metadata": {
  "kernelspec": {
   "display_name": "Python 3",
   "language": "python",
   "name": "python3"
  },
  "language_info": {
   "codemirror_mode": {
    "name": "ipython",
    "version": 3
   },
   "file_extension": ".py",
   "mimetype": "text/x-python",
   "name": "python",
   "nbconvert_exporter": "python",
   "pygments_lexer": "ipython3",
   "version": "3.8.5"
  }
 },
 "nbformat": 4,
 "nbformat_minor": 5
}
