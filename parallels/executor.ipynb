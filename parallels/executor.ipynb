{
 "cells": [
  {
   "cell_type": "markdown",
   "id": "fb21ea14-5249-4349-8958-77df9cdededf",
   "metadata": {
    "tags": [
     "docstring"
    ]
   },
   "source": [
    "# Executor"
   ]
  },
  {
   "cell_type": "code",
   "execution_count": 1,
   "id": "e51310b7-22c5-4af3-b653-e98263b7253a",
   "metadata": {},
   "outputs": [],
   "source": [
    "%run -m literary.notebook"
   ]
  },
  {
   "cell_type": "code",
   "execution_count": 2,
   "id": "d6808acc-2752-42dc-a650-1b0d7ec95b78",
   "metadata": {
    "tags": [
     "export"
    ]
   },
   "outputs": [],
   "source": [
    "import asyncio\n",
    "from typing import List\n",
    "\n",
    "from .futures import create_future"
   ]
  },
  {
   "cell_type": "markdown",
   "id": "98c0eb7a-26fd-4bd7-8207-6ac434b031f5",
   "metadata": {},
   "source": [
    "The base `Executor` class defines the fundamental async API to interface with task executors. These executors are expected to produce a \"resource\" that is later accessed by the `retrieve` method."
   ]
  },
  {
   "cell_type": "code",
   "execution_count": 7,
   "id": "968c6b59-92cc-4c3b-8ac3-9d1b1c0b7642",
   "metadata": {
    "tags": [
     "export"
    ]
   },
   "outputs": [],
   "source": [
    "class Executor:\n",
    "    def _apply(self, func, /, *args, **kwargs):\n",
    "        raise NotImplementedError\n",
    "\n",
    "    def _register_handle(self, handle: asyncio.Future, future):\n",
    "        raise NotImplementedError\n",
    "\n",
    "    def _unwrap_handle(self, handle: asyncio.Future):\n",
    "        try:\n",
    "            return handle.__resource\n",
    "        except AttributeError as err:\n",
    "            raise ValueError(\"object is not a handle\") from err\n",
    "\n",
    "    def _wrap_resource(self, resource) -> asyncio.Future:\n",
    "        handle = create_future()\n",
    "        handle.__resource = resource\n",
    "        self._register_handle(handle, resource)\n",
    "        return handle\n",
    "\n",
    "    def map(self, func, /, *iterables) -> List[asyncio.Future]:\n",
    "        return [self.submit(func, *args) for args in zip(*iterables)]\n",
    "\n",
    "    async def retrieve(self, handle: asyncio.Future):\n",
    "        raise NotImplementedError\n",
    "\n",
    "    def submit(self, func, /, *args, **kwargs) -> asyncio.Future:\n",
    "        return self._wrap_resource(self._apply(func, *args, **kwargs))"
   ]
  },
  {
   "cell_type": "markdown",
   "id": "9deba3b1-b060-45bf-aec6-9136dbd74cd7",
   "metadata": {},
   "source": [
    "In many cases, the produced resource implements the `__await__` magic-method, in which case the abstract `retrieve` method can be implemented to await it."
   ]
  },
  {
   "cell_type": "code",
   "execution_count": 6,
   "id": "638e632e-0620-46c2-8c4a-d8467c4ee453",
   "metadata": {
    "tags": [
     "export"
    ]
   },
   "outputs": [],
   "source": [
    "class AsyncExecutor(Executor):\n",
    "    async def retrieve(self, handle: asyncio.Future):\n",
    "        return await self._unwrap_handle(handle)"
   ]
  }
 ],
 "metadata": {
  "kernelspec": {
   "display_name": "Python 3",
   "language": "python",
   "name": "python3"
  },
  "language_info": {
   "codemirror_mode": {
    "name": "ipython",
    "version": 3
   },
   "file_extension": ".py",
   "mimetype": "text/x-python",
   "name": "python",
   "nbconvert_exporter": "python",
   "pygments_lexer": "ipython3",
   "version": "3.8.5"
  }
 },
 "nbformat": 4,
 "nbformat_minor": 5
}
