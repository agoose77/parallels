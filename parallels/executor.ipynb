{
 "cells": [
  {
   "cell_type": "markdown",
   "id": "fb21ea14-5249-4349-8958-77df9cdededf",
   "metadata": {
    "tags": [
     "docstring"
    ]
   },
   "source": [
    "# Executor"
   ]
  },
  {
   "cell_type": "code",
   "execution_count": 1,
   "id": "e51310b7-22c5-4af3-b653-e98263b7253a",
   "metadata": {},
   "outputs": [],
   "source": [
    "%run -m literary.notebook"
   ]
  },
  {
   "cell_type": "code",
   "execution_count": 1,
   "id": "d6808acc-2752-42dc-a650-1b0d7ec95b78",
   "metadata": {
    "tags": [
     "export"
    ]
   },
   "outputs": [],
   "source": [
    "import asyncio\n",
    "from typing import List"
   ]
  },
  {
   "cell_type": "code",
   "execution_count": null,
   "id": "968c6b59-92cc-4c3b-8ac3-9d1b1c0b7642",
   "metadata": {
    "tags": [
     "export"
    ]
   },
   "outputs": [],
   "source": [
    "class Executor:\n",
    "    def map(self, func, /, *iterables) -> List[asyncio.Future]:\n",
    "        return [self.submit(func, *args) for args in zip(*iterables)]\n",
    "\n",
    "    def submit(self, func, /, *args, **kwargs) -> asyncio.Future:\n",
    "        raise NotImplementedError\n",
    "\n",
    "    async def retrieve(self, handle: asyncio.Future):\n",
    "        raise NotImplementedError"
   ]
  }
 ],
 "metadata": {
  "kernelspec": {
   "display_name": "Python 3",
   "language": "python",
   "name": "python3"
  },
  "language_info": {
   "codemirror_mode": {
    "name": "ipython",
    "version": 3
   },
   "file_extension": ".py",
   "mimetype": "text/x-python",
   "name": "python",
   "nbconvert_exporter": "python",
   "pygments_lexer": "ipython3",
   "version": "3.8.5"
  }
 },
 "nbformat": 4,
 "nbformat_minor": 5
}
