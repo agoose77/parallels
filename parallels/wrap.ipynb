{
 "cells": [
  {
   "cell_type": "code",
   "execution_count": 1,
   "id": "76ef6cc7-09ad-4562-befa-c9fd86c8312a",
   "metadata": {},
   "outputs": [],
   "source": [
    "%run -m literary.notebook"
   ]
  },
  {
   "cell_type": "code",
   "execution_count": 2,
   "id": "bebc551d-efb3-4ab6-9a73-29b7f8fa736f",
   "metadata": {
    "tags": [
     "export"
    ]
   },
   "outputs": [],
   "source": [
    "import asyncio"
   ]
  },
  {
   "cell_type": "code",
   "execution_count": 3,
   "id": "775d4f7a-16f2-4e13-aa87-be603f9fb6c7",
   "metadata": {
    "tags": [
     "export"
    ]
   },
   "outputs": [],
   "source": [
    "class AttributeHandleWrapper:\n",
    "    def unwrap(self, handle: asyncio.Future):\n",
    "        return handle.__wrapped\n",
    "\n",
    "    def wrap(self, handle: asyncio.Future, wrapped):\n",
    "        handle.__wrapped = wrapped"
   ]
  }
 ],
 "metadata": {
  "kernelspec": {
   "display_name": "Python 3",
   "language": "python",
   "name": "python3"
  },
  "language_info": {
   "codemirror_mode": {
    "name": "ipython",
    "version": 3
   },
   "file_extension": ".py",
   "mimetype": "text/x-python",
   "name": "python",
   "nbconvert_exporter": "python",
   "pygments_lexer": "ipython3",
   "version": "3.8.5"
  }
 },
 "nbformat": 4,
 "nbformat_minor": 5
}
